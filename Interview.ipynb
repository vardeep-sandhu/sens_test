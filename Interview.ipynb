{
 "cells": [
  {
   "cell_type": "code",
   "execution_count": null,
   "metadata": {},
   "outputs": [],
   "source": [
    "from google.colab import drive\n",
    "drive.mount('/content/drive')"
   ]
  },
  {
   "cell_type": "markdown",
   "metadata": {
    "id": "g6-LXEEj-Uyr"
   },
   "source": [
    "%cd /content/drive/MyDrive/Learning/sens_test/\n",
    "import os\n",
    "cwd = os.getcwd()"
   ]
  },
  {
   "cell_type": "code",
   "execution_count": 12,
   "metadata": {
    "id": "yg24zkt4iIuc"
   },
   "outputs": [],
   "source": [
    "data_path = \"/content/drive/MyDrive/Learning/sens_test/SemanticKITTI_00\"\n",
    "!pip install -e .\n",
    "%cd /content/drive/MyDrive/Learning/sens_test/tools"
   ]
  },
  {
   "cell_type": "code",
   "execution_count": 13,
   "metadata": {
    "id": "J5X51l9hjCVU"
   },
   "outputs": [],
   "source": [
    "import torch\n",
    "from torch.utils.data import DataLoader\n",
    "import pytorch_lightning as pl\n",
    "import os\n",
    "from dataset import SemanticKITTIDataset\n",
    "from lightning.pytorch.loggers import TensorBoardLogger\n",
    "from voxelnet_model import TrajectoryPredictorWithVoxelNet\n",
    "import yaml\n",
    "from box import Box\n",
    "\n",
    "\n",
    "def load_cofig(path: str) -> Box:\n",
    "    with open(path, 'r') as file:\n",
    "        config = yaml.safe_load(file)\n",
    "    return Box(config)\n",
    "\n",
    "def custom_collate_fn(batch: list) -> dict:\n",
    "    voxels = [torch.Tensor(i[\"voxels\"][\"voxels\"]) for i in batch]\n",
    "    num_points = [torch.Tensor(i[\"voxels\"][\"num_points\"]) for i in batch]\n",
    "    voxel_coordinates = [torch.Tensor(i['voxels']['coordinates']) for i in batch]\n",
    "    grid_shape = torch.Tensor(batch[0]['voxels']['shape'])\n",
    "    targets = [i[\"target\"] for i in batch]\n",
    "\n",
    "    max_num_voxels = max(v.shape[0] for v in voxels)\n",
    "    voxel_shape = voxels[0].shape[1:]\n",
    "\n",
    "    padded_voxels, padded_num_points, padded_voxel_coordinates, masks = [], [], [], []\n",
    "\n",
    "    for i, _ in enumerate(voxels):\n",
    "        num_voxels = voxels[i].shape[0]\n",
    "        \n",
    "        padded = torch.zeros((max_num_voxels, *voxel_shape), dtype=voxels[i].dtype)\n",
    "        p_num_points = torch.zeros((max_num_voxels))\n",
    "        p_voxel_coordinates = torch.zeros((max_num_voxels, 3))\n",
    "\n",
    "        p_voxel_coordinates[:num_voxels] = voxel_coordinates[i]\n",
    "        p_num_points[:num_voxels] = num_points[i]\n",
    "        padded[:num_voxels] = voxels[i]  # Copy valid voxels\n",
    "        \n",
    "        padded_voxels.append(padded)\n",
    "        padded_num_points.append(p_num_points)\n",
    "        padded_voxel_coordinates.append(p_voxel_coordinates)\n",
    "        \n",
    "        mask = torch.zeros(max_num_voxels, dtype=torch.bool)\n",
    "        mask[:num_voxels] = True\n",
    "        masks.append(mask)\n",
    "    return {\n",
    "        'voxels': torch.stack(padded_voxels),\n",
    "        'mask': torch.stack(masks),\n",
    "        'num_points': torch.stack(padded_num_points),\n",
    "        'grid_shape': grid_shape,\n",
    "        'voxel_coordinates': torch.stack(padded_voxel_coordinates),\n",
    "        'target': torch.stack(targets),\n",
    "    }\n",
    "\n",
    "\n",
    "def train_model(config: Box):\n",
    "    logger = TensorBoardLogger(\"tb_logs\", name=\"first_model\")\n",
    "    trainer = pl.Trainer(\n",
    "        accelerator=\"cpu\",\n",
    "        devices=1,\n",
    "        precision=16,\n",
    "        max_epochs=config.epochs,\n",
    "        logger=logger,\n",
    "        strategy=\"auto\",\n",
    "    )\n",
    "    model = TrajectoryPredictorWithVoxelNet()\n",
    "\n",
    "    train_dataset = SemanticKITTIDataset(config, train=True)\n",
    "    test_dataset = SemanticKITTIDataset(config, train=False)\n",
    "\n",
    "    train_dataloader = DataLoader(\n",
    "        train_dataset,\n",
    "        batch_size=config.train_batch_size,\n",
    "        num_workers=os.cpu_count(),\n",
    "        pin_memory=True,\n",
    "        shuffle=True,\n",
    "        collate_fn=custom_collate_fn,\n",
    "        persistent_workers=True,\n",
    "    )\n",
    "    test_dataloader = DataLoader(\n",
    "        test_dataset,\n",
    "        batch_size=1,\n",
    "        num_workers=os.cpu_count(),\n",
    "        pin_memory=True,\n",
    "        shuffle=False,\n",
    "        collate_fn=custom_collate_fn,\n",
    "        persistent_workers=True,\n",
    "    )\n",
    "    trainer.fit(model, train_dataloader, test_dataloader)\n",
    "    # if config.do_test and config.ckpt_path:\n",
    "    trainer.test(\n",
    "        model,\n",
    "        test_dataloader,\n",
    "        ckpt_path=\"best\",\n",
    "    )\n",
    "\n",
    "# if __name__ == \"__main__\":\n",
    "config_path = \"config/init_config.yaml\"\n",
    "config = load_cofig(config_path)\n",
    "\n",
    "train_model(config)\n"
   ]
  }
 ],
 "metadata": {
  "accelerator": "GPU",
  "colab": {
   "gpuType": "T4",
   "provenance": [
    {
     "file_id": "1XYqBrcDbGgl9m2RamNccjQw1Dk8p-NPP",
     "timestamp": 1723650034681
    }
   ]
  },
  "kernelspec": {
   "display_name": "Python 3 (ipykernel)",
   "language": "python",
   "name": "python3"
  },
  "language_info": {
   "codemirror_mode": {
    "name": "ipython",
    "version": 3
   },
   "file_extension": ".py",
   "mimetype": "text/x-python",
   "name": "python",
   "nbconvert_exporter": "python",
   "pygments_lexer": "ipython3",
   "version": "3.10.16"
  }
 },
 "nbformat": 4,
 "nbformat_minor": 4
}
